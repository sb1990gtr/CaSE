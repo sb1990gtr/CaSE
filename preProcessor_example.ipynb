{
 "cells": [
  {
   "cell_type": "markdown",
   "metadata": {
    "collapsed": true,
    "pycharm": {
     "name": "#%% md\n"
    }
   },
   "source": [
    "# The PreProcessor \n",
    "This example shows how the PreProcessor class can be used to preprocess a document from the 20 Newsgroup Dataset "
   ]
  },
  {
   "cell_type": "code",
   "execution_count": 1,
   "metadata": {
    "pycharm": {
     "is_executing": false,
     "name": "#%%\n"
    }
   },
   "outputs": [
    {
     "name": "stdout",
     "output_type": "stream",
     "text": [
      "\n",
      "--- the origional email---\n",
      "\n",
      "From: conor@owlnet.rice.edu (Conor Frederick Prischmann)\n",
      "Subject: Re: Genocide is Caused by Theism : Evidence?\n",
      "Organization: Rice University\n",
      "Lines: 23\n",
      "\n",
      "In article <C60A0s.DvI@mailer.cc.fsu.edu> dekorte@dirac.scri.fsu.edu (Stephen L. DeKorte) writes:\n",
      ">\n",
      ">I saw a 3 hour show on PBS the other day about the history of the\n",
      ">Jews. Appearently, the Cursades(a religious war agianst the muslilams\n",
      ">in 'the holy land') sparked the widespread persecution of muslilams \n",
      ">and jews in europe. Among the supporters of the persiecution, were none \n",
      ">other than Martin Luther, and the Vatican.\n",
      ">\n",
      ">Later, Hitler would use Luthers writings to justify his own treatment\n",
      ">of the jews.\n",
      ">> Genocide is Caused by Theism : Evidence?\n",
      "\n",
      "Heck, I remember reading a quote of Luther as something like: \"Jews should\n",
      "be shot like deer.\"  And of course much Catholic doctrine for centuries was \n",
      "extremely anti-Semitic.\n",
      "\n",
      "\n",
      "\n",
      "-- \n",
      "\"Are you so sure that your truth and your justice are worth more than the\n",
      "truths and justices of other centuries?\" - Simone de Beauvoir\n",
      "\"Where is there a certainty that rises above all doubt and withstands all\n",
      "critique?\" - Karl Jaspers          Rice University, Will Rice College '96\n",
      "\n",
      "\n",
      "--- the preprocessed email---\n",
      "\n",
      "['genocide', 'theism', 'evidence', 'article', 'see', 'hour', 'show', 'day', 'history', 'religious', 'war', 'spark', 'widespread', 'persecution', 'none', 'later', 'use', 'treatment', 'genocide', 'theism', 'evidence', 'remember', 'read', 'shoot', 'deer', 'course', 'much', 'extremely', 'sure', 'truth', 'doubt', 'college']\n"
     ]
    }
   ],
   "source": [
    "from sklearn.datasets import fetch_20newsgroups\n",
    "newsgroups_test = fetch_20newsgroups(subset='test')\n",
    "from src.lime_text_topics import PreProcessor\n",
    "\n",
    "# Preprocess document within dataset\n",
    "# includes removing of unnecessary characters and lemmatization\n",
    "\n",
    "idx = 1340\n",
    "\n",
    "data_processor = PreProcessor()\n",
    "data_preprocessed = data_processor.preprocess_string(newsgroups_test.data[idx])\n",
    "\n",
    "print('\\n--- the origional email---\\n')\n",
    "print(newsgroups_test.data[idx])\n",
    "print('\\n--- the preprocessed email---\\n')\n",
    "print(data_preprocessed)\n",
    "\n",
    "\n"
   ]
  }
 ],
 "metadata": {
  "kernelspec": {
   "display_name": "Python 3",
   "language": "python",
   "name": "python3"
  },
  "language_info": {
   "codemirror_mode": {
    "name": "ipython",
    "version": 3
   },
   "file_extension": ".py",
   "mimetype": "text/x-python",
   "name": "python",
   "nbconvert_exporter": "python",
   "pygments_lexer": "ipython3",
   "version": "3.7.5"
  },
  "pycharm": {
   "stem_cell": {
    "cell_type": "raw",
    "metadata": {
     "collapsed": false
    },
    "source": []
   }
  }
 },
 "nbformat": 4,
 "nbformat_minor": 1
}
